{
 "cells": [
  {
   "cell_type": "code",
   "execution_count": 37,
   "metadata": {},
   "outputs": [],
   "source": [
    "# versao_tensorflow_curso=2.15.0\n",
    "# %pip install tensorflow==versao_tensorflow_curso"
   ]
  },
  {
   "cell_type": "code",
   "execution_count": 38,
   "metadata": {},
   "outputs": [
    {
     "name": "stdout",
     "output_type": "stream",
     "text": [
      "Requirement already satisfied: tensorflow in /opt/conda/lib/python3.11/site-packages (2.16.1)\n",
      "Requirement already satisfied: absl-py>=1.0.0 in /opt/conda/lib/python3.11/site-packages (from tensorflow) (2.1.0)\n",
      "Requirement already satisfied: astunparse>=1.6.0 in /opt/conda/lib/python3.11/site-packages (from tensorflow) (1.6.3)\n",
      "Requirement already satisfied: flatbuffers>=23.5.26 in /opt/conda/lib/python3.11/site-packages (from tensorflow) (24.3.25)\n",
      "Requirement already satisfied: gast!=0.5.0,!=0.5.1,!=0.5.2,>=0.2.1 in /opt/conda/lib/python3.11/site-packages (from tensorflow) (0.5.4)\n",
      "Requirement already satisfied: google-pasta>=0.1.1 in /opt/conda/lib/python3.11/site-packages (from tensorflow) (0.2.0)\n",
      "Requirement already satisfied: h5py>=3.10.0 in /opt/conda/lib/python3.11/site-packages (from tensorflow) (3.10.0)\n",
      "Requirement already satisfied: libclang>=13.0.0 in /opt/conda/lib/python3.11/site-packages (from tensorflow) (18.1.1)\n",
      "Requirement already satisfied: ml-dtypes~=0.3.1 in /opt/conda/lib/python3.11/site-packages (from tensorflow) (0.3.2)\n",
      "Requirement already satisfied: opt-einsum>=2.3.2 in /opt/conda/lib/python3.11/site-packages (from tensorflow) (3.3.0)\n",
      "Requirement already satisfied: packaging in /opt/conda/lib/python3.11/site-packages (from tensorflow) (24.0)\n",
      "Requirement already satisfied: protobuf!=4.21.0,!=4.21.1,!=4.21.2,!=4.21.3,!=4.21.4,!=4.21.5,<5.0.0dev,>=3.20.3 in /opt/conda/lib/python3.11/site-packages (from tensorflow) (4.25.3)\n",
      "Requirement already satisfied: requests<3,>=2.21.0 in /opt/conda/lib/python3.11/site-packages (from tensorflow) (2.31.0)\n",
      "Requirement already satisfied: setuptools in /opt/conda/lib/python3.11/site-packages (from tensorflow) (69.2.0)\n",
      "Requirement already satisfied: six>=1.12.0 in /opt/conda/lib/python3.11/site-packages (from tensorflow) (1.16.0)\n",
      "Requirement already satisfied: termcolor>=1.1.0 in /opt/conda/lib/python3.11/site-packages (from tensorflow) (2.4.0)\n",
      "Requirement already satisfied: typing-extensions>=3.6.6 in /opt/conda/lib/python3.11/site-packages (from tensorflow) (4.10.0)\n",
      "Requirement already satisfied: wrapt>=1.11.0 in /opt/conda/lib/python3.11/site-packages (from tensorflow) (1.16.0)\n",
      "Requirement already satisfied: grpcio<2.0,>=1.24.3 in /opt/conda/lib/python3.11/site-packages (from tensorflow) (1.64.0)\n",
      "Requirement already satisfied: tensorboard<2.17,>=2.16 in /opt/conda/lib/python3.11/site-packages (from tensorflow) (2.16.2)\n",
      "Requirement already satisfied: keras>=3.0.0 in /opt/conda/lib/python3.11/site-packages (from tensorflow) (3.3.3)\n",
      "Requirement already satisfied: tensorflow-io-gcs-filesystem>=0.23.1 in /opt/conda/lib/python3.11/site-packages (from tensorflow) (0.37.0)\n",
      "Requirement already satisfied: numpy<2.0.0,>=1.23.5 in /opt/conda/lib/python3.11/site-packages (from tensorflow) (1.26.4)\n",
      "Requirement already satisfied: wheel<1.0,>=0.23.0 in /opt/conda/lib/python3.11/site-packages (from astunparse>=1.6.0->tensorflow) (0.42.0)\n",
      "Requirement already satisfied: rich in /opt/conda/lib/python3.11/site-packages (from keras>=3.0.0->tensorflow) (13.7.1)\n",
      "Requirement already satisfied: namex in /opt/conda/lib/python3.11/site-packages (from keras>=3.0.0->tensorflow) (0.0.8)\n",
      "Requirement already satisfied: optree in /opt/conda/lib/python3.11/site-packages (from keras>=3.0.0->tensorflow) (0.11.0)\n",
      "Requirement already satisfied: charset-normalizer<4,>=2 in /opt/conda/lib/python3.11/site-packages (from requests<3,>=2.21.0->tensorflow) (3.3.2)\n",
      "Requirement already satisfied: idna<4,>=2.5 in /opt/conda/lib/python3.11/site-packages (from requests<3,>=2.21.0->tensorflow) (3.6)\n",
      "Requirement already satisfied: urllib3<3,>=1.21.1 in /opt/conda/lib/python3.11/site-packages (from requests<3,>=2.21.0->tensorflow) (2.2.1)\n",
      "Requirement already satisfied: certifi>=2017.4.17 in /opt/conda/lib/python3.11/site-packages (from requests<3,>=2.21.0->tensorflow) (2024.2.2)\n",
      "Requirement already satisfied: markdown>=2.6.8 in /opt/conda/lib/python3.11/site-packages (from tensorboard<2.17,>=2.16->tensorflow) (3.6)\n",
      "Requirement already satisfied: tensorboard-data-server<0.8.0,>=0.7.0 in /opt/conda/lib/python3.11/site-packages (from tensorboard<2.17,>=2.16->tensorflow) (0.7.2)\n",
      "Requirement already satisfied: werkzeug>=1.0.1 in /opt/conda/lib/python3.11/site-packages (from tensorboard<2.17,>=2.16->tensorflow) (3.0.3)\n",
      "Requirement already satisfied: MarkupSafe>=2.1.1 in /opt/conda/lib/python3.11/site-packages (from werkzeug>=1.0.1->tensorboard<2.17,>=2.16->tensorflow) (2.1.5)\n",
      "Requirement already satisfied: markdown-it-py>=2.2.0 in /opt/conda/lib/python3.11/site-packages (from rich->keras>=3.0.0->tensorflow) (3.0.0)\n",
      "Requirement already satisfied: pygments<3.0.0,>=2.13.0 in /opt/conda/lib/python3.11/site-packages (from rich->keras>=3.0.0->tensorflow) (2.17.2)\n",
      "Requirement already satisfied: mdurl~=0.1 in /opt/conda/lib/python3.11/site-packages (from markdown-it-py>=2.2.0->rich->keras>=3.0.0->tensorflow) (0.1.2)\n",
      "Note: you may need to restart the kernel to use updated packages.\n"
     ]
    }
   ],
   "source": [
    "%pip install tensorflow"
   ]
  },
  {
   "cell_type": "markdown",
   "metadata": {},
   "source": [
    "  não definir um seed (semente aleatória) para os pesos e viés, os valores inicializados serão diferentes a cada execução, o que pode afetar a consistência e a reprodutibilidade dos resultados.\n",
    "  por isso precisamos definir\n",
    "\n",
    "  1 - Inicialização dos Parâmetros: Você começará inicializando os parâmetros do perceptron, que incluem os pesos e os vieses."
   ]
  },
  {
   "cell_type": "code",
   "execution_count": 39,
   "metadata": {},
   "outputs": [
    {
     "name": "stdout",
     "output_type": "stream",
     "text": [
      "Tensorflow instalado na versão: 2.16.1\n"
     ]
    }
   ],
   "source": [
    "import tensorflow as tf\n",
    "\n",
    "tf.random.set_seed(31)\n",
    "versao_tensorflow = tf.__version__\n",
    "print(f'Tensorflow instalado na versão: {versao_tensorflow}')"
   ]
  },
  {
   "cell_type": "code",
   "execution_count": 40,
   "metadata": {},
   "outputs": [],
   "source": [
    "peso = tf.Variable(tf.random.normal([1]), name='peso')\n",
    "vies = tf.Variable(tf.random.normal([1]), name='vies') "
   ]
  },
  {
   "cell_type": "code",
   "execution_count": 41,
   "metadata": {},
   "outputs": [
    {
     "data": {
      "text/plain": [
       "<tf.Variable 'peso:0' shape=(1,) dtype=float32, numpy=array([-0.3594139], dtype=float32)>"
      ]
     },
     "execution_count": 41,
     "metadata": {},
     "output_type": "execute_result"
    }
   ],
   "source": [
    "peso"
   ]
  },
  {
   "cell_type": "code",
   "execution_count": 42,
   "metadata": {},
   "outputs": [
    {
     "data": {
      "text/plain": [
       "<tf.Variable 'vies:0' shape=(1,) dtype=float32, numpy=array([0.15100643], dtype=float32)>"
      ]
     },
     "execution_count": 42,
     "metadata": {},
     "output_type": "execute_result"
    }
   ],
   "source": [
    "vies"
   ]
  },
  {
   "cell_type": "code",
   "execution_count": 43,
   "metadata": {},
   "outputs": [
    {
     "name": "stdout",
     "output_type": "stream",
     "text": [
      "Peso = [-0.3594139]\n",
      "Vies = [0.15100643]\n"
     ]
    }
   ],
   "source": [
    "print(f'Peso = {peso.numpy()}')\n",
    "print(f'Vies = {vies.numpy()}')"
   ]
  },
  {
   "cell_type": "markdown",
   "metadata": {},
   "source": [
    "2 - Construção do Neurônio: Implemente a função neuronio que receberá a entrada x e retornará a saída do perceptron antes da aplicação da função sigmóide."
   ]
  },
  {
   "cell_type": "code",
   "execution_count": 44,
   "metadata": {},
   "outputs": [],
   "source": [
    "def neuronio(x, peso, vies):\n",
    "    valor = tf.multiply(x, peso)\n",
    "    z = tf.add(valor, vies)\n",
    "    return z"
   ]
  },
  {
   "cell_type": "code",
   "execution_count": 45,
   "metadata": {},
   "outputs": [
    {
     "name": "stdout",
     "output_type": "stream",
     "text": [
      "tf.Tensor([-3.4431324], shape=(1,), dtype=float32)\n"
     ]
    }
   ],
   "source": [
    "# deve ser float, não pode ser integer\n",
    "# ainda nao estamos processando dados de um dataset, então vamos tratar somente um dado que é 10.0\n",
    "dado = 10.0\n",
    "exemplo = tf.constant(dado)\n",
    "valor = neuronio(exemplo, peso, vies)\n",
    "print(valor)"
   ]
  },
  {
   "cell_type": "markdown",
   "metadata": {},
   "source": [
    "neuronio irá gerar valores entre menos infinito e mais infinito\n",
    "e temos que converter esta \"valor\" para um intervalo de zero e um\n",
    "uma das formas de fazer esta conversão é usando função \"seno\" "
   ]
  },
  {
   "cell_type": "code",
   "execution_count": 46,
   "metadata": {},
   "outputs": [
    {
     "data": {
      "image/png": "[encoded data removed]",
      "text/plain": [
       "<Figure size 640x480 with 1 Axes>"
      ]
     },
     "metadata": {},
     "output_type": "display_data"
    }
   ],
   "source": [
    "import matplotlib.pyplot as plt\n",
    "import numpy as np\n",
    "\n",
    "def gera_grafico():\n",
    "    x = np.linspace(-10, 10, 100)\n",
    "    # \"sin\" é a função \"seno\"\n",
    "    y = tf.sin(x)\n",
    "    plt.plot(x, y)\n",
    "    plt.xlabel('x')\n",
    "    plt.title('Função Seno')\n",
    "    plt.show()\n",
    "\n",
    "gera_grafico()"
   ]
  },
  {
   "cell_type": "code",
   "execution_count": 47,
   "metadata": {},
   "outputs": [
    {
     "data": {
      "image/png": "[encoded data removed]",
      "text/plain": [
       "<Figure size 640x480 with 1 Axes>"
      ]
     },
     "metadata": {},
     "output_type": "display_data"
    }
   ],
   "source": [
    "\n",
    "def gera_grafico():\n",
    "    x = np.linspace(-10, 10, 100)\n",
    "    y = (tf.sin(x) + 1) / 2  # Ajuste da função seno para ficar no intervalo [0, 1]\n",
    "    y2 = tf.sigmoid(x)\n",
    "    \n",
    "    plt.plot(x, y, label='seno')\n",
    "    plt.plot(x, y2, label='sigmoid')\n",
    "    plt.axhline(y=0.5, color='r', linestyle='--', label='limiar')\n",
    "\n",
    "    # Adicionar texto \"0.5\" na coluna y\n",
    "    plt.text(x[-1] + 0.5, 0.5, '0.5', color='r', verticalalignment='center')\n",
    "\n",
    "    plt.xlabel('x')\n",
    "    plt.title('Função Seno e Função Sigmóide')\n",
    "    plt.legend()\n",
    "    plt.show()\n",
    "\n",
    "gera_grafico()"
   ]
  },
  {
   "cell_type": "markdown",
   "metadata": {},
   "source": []
  },
  {
   "cell_type": "markdown",
   "metadata": {},
   "source": [
    "3 - Aplicação da Função de Ativação Sigmóide: Aplique a função de ativação sigmóide para obter a probabilidade da entrada pertencer à classe 1."
   ]
  },
  {
   "cell_type": "code",
   "execution_count": 48,
   "metadata": {},
   "outputs": [
    {
     "data": {
      "text/plain": [
       "<tf.Tensor: shape=(1,), dtype=float32, numpy=array([0.03097433], dtype=float32)>"
      ]
     },
     "execution_count": 48,
     "metadata": {},
     "output_type": "execute_result"
    }
   ],
   "source": [
    "probabilidade = tf.sigmoid(neuronio(tf.constant([10.0]), peso, vies))\n",
    "probabilidade"
   ]
  },
  {
   "cell_type": "markdown",
   "metadata": {},
   "source": [
    "o valor de \"0.03097433\" é muito baixo, muito proximo de zero\n",
    "o valor de 0.5, normalmente é usado para comparar probabilidades ou ativações de neurônios, geralmente é chamada de limiar ou threshold. Isso porque o valor 0.5 frequentemente serve como um ponto de decisão para determinar se a saída de um neurônio (ou a probabilidade de uma classificação) indica uma classe positiva ou negativa.\n",
    "\n",
    "olhando para o gráfico acima na linha laranjada da função sigmóide, oque fica acima do valor de threshold é considerado 1, e oque fica abaixo é considerado 0"
   ]
  },
  {
   "cell_type": "code",
   "execution_count": 49,
   "metadata": {},
   "outputs": [
    {
     "name": "stdout",
     "output_type": "stream",
     "text": [
      "Probabilidade: [0.03097433]\n",
      "Probabilidade > 0.5: [False]\n"
     ]
    }
   ],
   "source": [
    "threshold = 0.5\n",
    "# Verificar se a probabilidade é maior que o limiar\n",
    "resultado = probabilidade > threshold\n",
    "print(f'Probabilidade: {probabilidade.numpy()}')\n",
    "print(f'Probabilidade > {threshold}: {resultado.numpy()}')\n"
   ]
  },
  {
   "cell_type": "markdown",
   "metadata": {},
   "source": [
    "doença cardiaca"
   ]
  },
  {
   "cell_type": "code",
   "execution_count": 50,
   "metadata": {},
   "outputs": [
    {
     "name": "stdout",
     "output_type": "stream",
     "text": [
      "Requirement already satisfied: ucimlrepo in /opt/conda/lib/python3.11/site-packages (0.0.7)\n",
      "Requirement already satisfied: pandas>=1.0.0 in /opt/conda/lib/python3.11/site-packages (from ucimlrepo) (2.2.1)\n",
      "Requirement already satisfied: certifi>=2020.12.5 in /opt/conda/lib/python3.11/site-packages (from ucimlrepo) (2024.2.2)\n",
      "Requirement already satisfied: numpy<2,>=1.23.2 in /opt/conda/lib/python3.11/site-packages (from pandas>=1.0.0->ucimlrepo) (1.26.4)\n",
      "Requirement already satisfied: python-dateutil>=2.8.2 in /opt/conda/lib/python3.11/site-packages (from pandas>=1.0.0->ucimlrepo) (2.9.0)\n",
      "Requirement already satisfied: pytz>=2020.1 in /opt/conda/lib/python3.11/site-packages (from pandas>=1.0.0->ucimlrepo) (2024.1)\n",
      "Requirement already satisfied: tzdata>=2022.7 in /opt/conda/lib/python3.11/site-packages (from pandas>=1.0.0->ucimlrepo) (2024.1)\n",
      "Requirement already satisfied: six>=1.5 in /opt/conda/lib/python3.11/site-packages (from python-dateutil>=2.8.2->pandas>=1.0.0->ucimlrepo) (1.16.0)\n",
      "Note: you may need to restart the kernel to use updated packages.\n"
     ]
    }
   ],
   "source": [
    "%pip install ucimlrepo\n",
    "from ucimlrepo import fetch_ucirepo\n",
    "doenca_cardiaca = fetch_ucirepo(id=45)\n",
    "X = doenca_cardiaca.data.features\n",
    "X = X[['age', 'chol', 'cp']]\n"
   ]
  },
  {
   "cell_type": "markdown",
   "metadata": {},
   "source": [
    "3 - Aplicação da Função de Ativação Sigmóide: Aplique a função de ativação sigmóide para obter a probabilidade da entrada pertencer à classe 1."
   ]
  },
  {
   "cell_type": "code",
   "execution_count": 51,
   "metadata": {},
   "outputs": [],
   "source": [
    "# agora vamos usar nossa função de neuronio com dados reais do nosso dataset\n",
    "probabilidade = tf.sigmoid(neuronio(tf.constant(X['chol'], dtype=tf.float32), peso, vies))"
   ]
  },
  {
   "cell_type": "code",
   "execution_count": 52,
   "metadata": {},
   "outputs": [
    {
     "data": {
      "text/plain": [
       "<tf.Tensor: shape=(10,), dtype=bool, numpy=\n",
       "array([False, False, False, False, False, False, False, False, False,\n",
       "       False])>"
      ]
     },
     "execution_count": 52,
     "metadata": {},
     "output_type": "execute_result"
    }
   ],
   "source": [
    "predicao = (probabilidade > threshold)[:10]\n",
    "predicao "
   ]
  },
  {
   "cell_type": "markdown",
   "metadata": {},
   "source": [
    "desta forma que foi configurado, o resultado da que todos são classificado como 0 (falso) por causa do jeito que foi configurado acima que são: peso, vies e seed \n",
    "agora devemos pegar este resultado gerado e comparar com o resultado real, e avaliar quando acertou e quando errou a sua classificação\n",
    "para isso devemos pegar o target do dataset"
   ]
  },
  {
   "cell_type": "code",
   "execution_count": 53,
   "metadata": {},
   "outputs": [],
   "source": [
    "target = doenca_cardiaca.data.targets\n",
    "def tem_doenca(target):\n",
    "    # valores acima de 0, é que tem doença\n",
    "    return target > 0\n",
    "target = tem_doenca(target) * 1"
   ]
  },
  {
   "cell_type": "code",
   "execution_count": 54,
   "metadata": {},
   "outputs": [
    {
     "data": {
      "text/plain": [
       "<tf.Tensor: shape=(10, 1), dtype=float32, numpy=\n",
       "array([[0.],\n",
       "       [1.],\n",
       "       [1.],\n",
       "       [0.],\n",
       "       [0.],\n",
       "       [0.],\n",
       "       [1.],\n",
       "       [0.],\n",
       "       [1.],\n",
       "       [1.]], dtype=float32)>"
      ]
     },
     "execution_count": 54,
     "metadata": {},
     "output_type": "execute_result"
    }
   ],
   "source": [
    "y_real = tf.constant(target, dtype=tf.float32)\n",
    "y_real[:10]"
   ]
  },
  {
   "cell_type": "markdown",
   "metadata": {},
   "source": [
    "só de olhar a saida dos 10 primeiros registros do tensor, podemos ver que nem todos são falsos como havia classicado a predicao nosso neuronio\n",
    "vamos chamar de 'perda' a diferença entre oque foi predito como uma classe, mas realmente era de outra\n",
    "\n",
    "4 - Cálculo da Perda: Utilize a classe BinaryCrossentropy() para calcular a perda do modelo. Isso medirá quão bem o modelo está performando, comparando a saída prevista com os valores reais."
   ]
  },
  {
   "cell_type": "code",
   "execution_count": 55,
   "metadata": {},
   "outputs": [
    {
     "data": {
      "text/plain": [
       "<tf.Tensor: shape=(), dtype=float32, numpy=7.3941092>"
      ]
     },
     "execution_count": 55,
     "metadata": {},
     "output_type": "execute_result"
    }
   ],
   "source": [
    "# calcula qual a perda para um problema de classificação binária\n",
    "calculadora_perda = tf.keras.losses.BinaryCrossentropy()\n",
    "perda = calculadora_perda(y_true=y_real, y_pred=probabilidade)\n",
    "perda"
   ]
  },
  {
   "cell_type": "markdown",
   "metadata": {},
   "source": [
    "quanto mais próximo de zero o valor da perda, significa que as predisões estão mais correta com base os valores de classe reais\n",
    "\n",
    "5 - Avaliação da Acurácia: Por fim, calcule a acurácia do modelo, que é a porcentagem de previsões corretas."
   ]
  },
  {
   "cell_type": "code",
   "execution_count": 56,
   "metadata": {},
   "outputs": [
    {
     "data": {
      "text/plain": [
       "0.5412541254125413"
      ]
     },
     "execution_count": 56,
     "metadata": {},
     "output_type": "execute_result"
    }
   ],
   "source": [
    "# acuracia\n",
    "y_predisto = ((probabilidade.numpy() > 0.5) * 1)\n",
    "np.mean(y_real.numpy() == y_predisto) "
   ]
  },
  {
   "cell_type": "markdown",
   "metadata": {},
   "source": [
    "este valor de \"0.5412541254125413\" é ruis, pois estamos acertando as classificações somente na metade metade dos casos "
   ]
  },
  {
   "cell_type": "code",
   "execution_count": 57,
   "metadata": {},
   "outputs": [
    {
     "data": {
      "text/html": [
       "<div>\n",
       "<style scoped>\n",
       "    .dataframe tbody tr th:only-of-type {\n",
       "        vertical-align: middle;\n",
       "    }\n",
       "\n",
       "    .dataframe tbody tr th {\n",
       "        vertical-align: top;\n",
       "    }\n",
       "\n",
       "    .dataframe thead th {\n",
       "        text-align: right;\n",
       "    }\n",
       "</style>\n",
       "<table border=\"1\" class=\"dataframe\">\n",
       "  <thead>\n",
       "    <tr style=\"text-align: right;\">\n",
       "      <th></th>\n",
       "      <th>cp_1</th>\n",
       "      <th>cp_2</th>\n",
       "      <th>cp_3</th>\n",
       "      <th>cp_4</th>\n",
       "    </tr>\n",
       "  </thead>\n",
       "  <tbody>\n",
       "    <tr>\n",
       "      <th>0</th>\n",
       "      <td>True</td>\n",
       "      <td>False</td>\n",
       "      <td>False</td>\n",
       "      <td>False</td>\n",
       "    </tr>\n",
       "    <tr>\n",
       "      <th>1</th>\n",
       "      <td>False</td>\n",
       "      <td>False</td>\n",
       "      <td>False</td>\n",
       "      <td>True</td>\n",
       "    </tr>\n",
       "    <tr>\n",
       "      <th>2</th>\n",
       "      <td>False</td>\n",
       "      <td>False</td>\n",
       "      <td>False</td>\n",
       "      <td>True</td>\n",
       "    </tr>\n",
       "    <tr>\n",
       "      <th>3</th>\n",
       "      <td>False</td>\n",
       "      <td>False</td>\n",
       "      <td>True</td>\n",
       "      <td>False</td>\n",
       "    </tr>\n",
       "    <tr>\n",
       "      <th>4</th>\n",
       "      <td>False</td>\n",
       "      <td>True</td>\n",
       "      <td>False</td>\n",
       "      <td>False</td>\n",
       "    </tr>\n",
       "  </tbody>\n",
       "</table>\n",
       "</div>"
      ],
      "text/plain": [
       "    cp_1   cp_2   cp_3   cp_4\n",
       "0   True  False  False  False\n",
       "1  False  False  False   True\n",
       "2  False  False  False   True\n",
       "3  False  False   True  False\n",
       "4  False   True  False  False"
      ]
     },
     "execution_count": 57,
     "metadata": {},
     "output_type": "execute_result"
    }
   ],
   "source": [
    "import pandas as pd\n",
    "df_cp = pd.get_dummies(X['cp'], prefix='cp')\n",
    "df_cp.head()"
   ]
  },
  {
   "cell_type": "code",
   "execution_count": 58,
   "metadata": {},
   "outputs": [
    {
     "data": {
      "text/plain": [
       "0.4650088771253363"
      ]
     },
     "execution_count": 58,
     "metadata": {},
     "output_type": "execute_result"
    }
   ],
   "source": [
    "# 3 - Aplicação da Função de Ativação Sigmóide: Aplique a função de ativação sigmóide para obter a probabilidade da entrada pertencer à classe 1.\n",
    "probabilidade = tf.sigmoid(neuronio(tf.constant(df_cp['cp_1'], dtype=tf.float32), peso, vies))\n",
    "# 4 - Cálculo da Perda: Utilize a classe BinaryCrossentropy() para calcular a perda do modelo. Isso medirá quão bem o modelo está performando, comparando a saída prevista com os valores reais.\n",
    "# Criando o y para comparar com as probabilidades\n",
    "y = tf.constant(target, dtype=tf.float32)   \n",
    "calculadora_perda = tf.keras.losses.BinaryCrossentropy()\n",
    "perda = calculadora_perda(y_true=y, y_pred=probabilidade)\n",
    "# 5 - Avaliação da Acurácia: Por fim, calcule a acurácia do modelo, que é a porcentagem de previsões corretas.\n",
    "np.mean(y.numpy() == ((probabilidade.numpy() > 0.5) * 1))\n",
    "\n",
    "\n"
   ]
  },
  {
   "cell_type": "markdown",
   "metadata": {},
   "source": [
    "O resultado será: 0.4650088771253363\n",
    "\n",
    "Observe que a nossa perda foi consideravelmente reduzida desta vez! Mas por que isso ocorreu? Você se lembra da variável \"chol\" que utilizamos na última aula? Ela apresentava uma ampla gama de valores, desde níveis baixos até níveis extremamente altos de colesterol, chegando próximo a 600.\n",
    "\n",
    "Por outro lado, a coluna “cp_1” contém apenas valores binários, 0 ou 1. Portanto, na próxima aula, abordaremos a normalização dos valores de entrada e utilizaremos todas as colunas como entrada no perceptron."
   ]
  },
  {
   "cell_type": "markdown",
   "metadata": {},
   "source": [
    "# modulo 03 Construindo o modelo - Aula 02 Normalizando os dados\n"
   ]
  },
  {
   "cell_type": "markdown",
   "metadata": {},
   "source": [
    "Depois, definimos nosso X, utilizando as colunas desejadas. Também temos o target sendo definido e, inclusive, sendo transformado, onde valores maiores que zero são iguais a 1.\n",
    "\n"
   ]
  },
  {
   "cell_type": "code",
   "execution_count": 59,
   "metadata": {},
   "outputs": [],
   "source": [
    "X = doenca_cardiaca.data.features\n",
    "X = X[['age', 'chol', 'cp']]\n",
    "\n",
    "target = doenca_cardiaca.data.targets\n",
    "target = (target > 0) * 1\n"
   ]
  },
  {
   "cell_type": "markdown",
   "metadata": {},
   "source": [
    "Depois, definimos nosso X, utilizando as colunas desejadas. Também temos o target sendo definido e, inclusive, sendo transformado, onde valores maiores que zero são iguais a 1."
   ]
  },
  {
   "cell_type": "code",
   "execution_count": 60,
   "metadata": {},
   "outputs": [],
   "source": [
    "X = doenca_cardiaca.data.features\n",
    "X = X[['age', 'chol', 'cp']]\n",
    "\n",
    "target = doenca_cardiaca.data.targets\n",
    "target = (target > 0) * 1\n"
   ]
  },
  {
   "cell_type": "markdown",
   "metadata": {},
   "source": [
    "Em seguida, temos o get_dummies da coluna cp, transformando-a em quatro outras colunas, contendo o tipo de dor no peito."
   ]
  },
  {
   "cell_type": "code",
   "execution_count": 61,
   "metadata": {},
   "outputs": [],
   "source": [
    "df_cp = pd.get_dummies(X['cp'], prefix='cp')\n",
    "X = X.drop('cp', axis=1).join(df_cp)\n"
   ]
  },
  {
   "cell_type": "markdown",
   "metadata": {},
   "source": [
    "Por fim, temos nosso Y preparado como uma constante no tipo float32.\n",
    "\n"
   ]
  },
  {
   "cell_type": "code",
   "execution_count": 62,
   "metadata": {},
   "outputs": [],
   "source": [
    "y = tf.constant(target, dtype=tf.float32)\n"
   ]
  },
  {
   "cell_type": "markdown",
   "metadata": {},
   "source": [
    "Estamos preparados para continuar. Então, na célula seguinte, vamos chamar X.head() para visualizar o que tínhamos."
   ]
  },
  {
   "cell_type": "code",
   "execution_count": 63,
   "metadata": {},
   "outputs": [
    {
     "data": {
      "text/html": [
       "<div>\n",
       "<style scoped>\n",
       "    .dataframe tbody tr th:only-of-type {\n",
       "        vertical-align: middle;\n",
       "    }\n",
       "\n",
       "    .dataframe tbody tr th {\n",
       "        vertical-align: top;\n",
       "    }\n",
       "\n",
       "    .dataframe thead th {\n",
       "        text-align: right;\n",
       "    }\n",
       "</style>\n",
       "<table border=\"1\" class=\"dataframe\">\n",
       "  <thead>\n",
       "    <tr style=\"text-align: right;\">\n",
       "      <th></th>\n",
       "      <th>age</th>\n",
       "      <th>chol</th>\n",
       "      <th>cp_1</th>\n",
       "      <th>cp_2</th>\n",
       "      <th>cp_3</th>\n",
       "      <th>cp_4</th>\n",
       "    </tr>\n",
       "  </thead>\n",
       "  <tbody>\n",
       "    <tr>\n",
       "      <th>0</th>\n",
       "      <td>63</td>\n",
       "      <td>233</td>\n",
       "      <td>True</td>\n",
       "      <td>False</td>\n",
       "      <td>False</td>\n",
       "      <td>False</td>\n",
       "    </tr>\n",
       "    <tr>\n",
       "      <th>1</th>\n",
       "      <td>67</td>\n",
       "      <td>286</td>\n",
       "      <td>False</td>\n",
       "      <td>False</td>\n",
       "      <td>False</td>\n",
       "      <td>True</td>\n",
       "    </tr>\n",
       "    <tr>\n",
       "      <th>2</th>\n",
       "      <td>67</td>\n",
       "      <td>229</td>\n",
       "      <td>False</td>\n",
       "      <td>False</td>\n",
       "      <td>False</td>\n",
       "      <td>True</td>\n",
       "    </tr>\n",
       "    <tr>\n",
       "      <th>3</th>\n",
       "      <td>37</td>\n",
       "      <td>250</td>\n",
       "      <td>False</td>\n",
       "      <td>False</td>\n",
       "      <td>True</td>\n",
       "      <td>False</td>\n",
       "    </tr>\n",
       "    <tr>\n",
       "      <th>4</th>\n",
       "      <td>41</td>\n",
       "      <td>204</td>\n",
       "      <td>False</td>\n",
       "      <td>True</td>\n",
       "      <td>False</td>\n",
       "      <td>False</td>\n",
       "    </tr>\n",
       "  </tbody>\n",
       "</table>\n",
       "</div>"
      ],
      "text/plain": [
       "   age  chol   cp_1   cp_2   cp_3   cp_4\n",
       "0   63   233   True  False  False  False\n",
       "1   67   286  False  False  False   True\n",
       "2   67   229  False  False  False   True\n",
       "3   37   250  False  False   True  False\n",
       "4   41   204  False   True  False  False"
      ]
     },
     "execution_count": 63,
     "metadata": {},
     "output_type": "execute_result"
    }
   ],
   "source": [
    "X.head()\n"
   ]
  },
  {
   "cell_type": "markdown",
   "metadata": {},
   "source": [
    "As colunas de idade e colesterol apresentam valores em intervalos diferentes. Enquanto a idade varia provavelmente entre 18 e 90 anos, o colesterol provavelmente está na faixa de 100 a 600. No entanto, as colunas seguintes contêm apenas valores de 1 ou 0. Isso pode representar um problema para o modelo devido à possibilidade de obtermos valores muito maiores da coluna de colesterol, resultado da multiplicação por um peso. Embora os valores de idade também possam ser altos, eles tendem a ser ligeiramente menores.\n",
    "\n",
    "O ideal seria normalizar esses valores para que todos estejam dentro de um intervalo específico, evitando assim discrepâncias causadas pela multiplicação de um peso por valores significativamente altos nessas colunas.\n",
    "\n",
    "Existem diversas formas de normalizar os dados, e vamos utilizar a biblioteca Scikit-Learn para realizar essa tarefa. Para isso, vamos importar a classe chamada StandardScaler que nos permitirá normalizar os dados. Vamos aplicar essa normalização apenas nas colunas de idade e colesterol, visto que as demais colunas já possuem valores binários (0 ou 1) e não necessitam de normalização.\n",
    "\n",
    "Primeiramente, vamos importar a classe StandardScaler da biblioteca SKLearn. Faremos isso da seguinte maneira:"
   ]
  },
  {
   "cell_type": "code",
   "execution_count": 64,
   "metadata": {},
   "outputs": [],
   "source": [
    "from sklearn.preprocessing import StandardScaler\n"
   ]
  },
  {
   "cell_type": "markdown",
   "metadata": {},
   "source": [
    "Em seguida, criaremos um objeto para utilizar essa classe, que chamaremos de scaler, e instanciaremos a classe StandardScaler()."
   ]
  },
  {
   "cell_type": "code",
   "execution_count": 65,
   "metadata": {},
   "outputs": [],
   "source": [
    "from sklearn.preprocessing import StandardScaler\n",
    "scaler = StandardScaler()\n"
   ]
  },
  {
   "cell_type": "markdown",
   "metadata": {},
   "source": [
    "Vamos executar esta célula.\n",
    "\n",
    "O próximo passo é aplicar a normalização nas colunas de idade e colesterol. Faremos isso passando essas colunas como entrada para o método fit_transform(). Este método irá calcular a média e o desvio padrão dos dados e normalizá-los, **resultando em valores com média zero e desvio padrão igual a 1** . Portanto, chamaremos scaler.fit_transform() e passaremos X como argumento, onde X é uma lista contendo as colunas de idade e colesterol."
   ]
  },
  {
   "cell_type": "code",
   "execution_count": 66,
   "metadata": {},
   "outputs": [],
   "source": [
    "# normalização dos dados\n",
    "X[['age', 'chol']] = scaler.fit_transform(X[['age', 'chol']])\n"
   ]
  },
  {
   "cell_type": "markdown",
   "metadata": {},
   "source": [
    "Podemos visualizar esses dados normalizados para verificar como fica essa transformação. Vamos utilizar o comando print para exibir os cinco primeiros valores normalizados da coluna \"age\" e da coluna \"chol\". Para a coluna \"age\", usaremos o seguinte comando"
   ]
  },
  {
   "cell_type": "code",
   "execution_count": 67,
   "metadata": {},
   "outputs": [
    {
     "name": "stdout",
     "output_type": "stream",
     "text": [
      "Primeiros valores normalizados de age: 0    0.948726\n",
      "1    1.392002\n",
      "2    1.392002\n",
      "3   -1.932564\n",
      "4   -1.489288\n",
      "Name: age, dtype: float64\n"
     ]
    }
   ],
   "source": [
    "print('Primeiros valores normalizados de age:', X['age'].head())\n"
   ]
  },
  {
   "cell_type": "markdown",
   "metadata": {},
   "source": [
    "Agora, faremos o mesmo para a coluna \"chol\":\n",
    "\n"
   ]
  },
  {
   "cell_type": "code",
   "execution_count": 68,
   "metadata": {},
   "outputs": [
    {
     "name": "stdout",
     "output_type": "stream",
     "text": [
      "Primeiros valores normalizados de chol: 0   -0.264900\n",
      "1    0.760415\n",
      "2   -0.342283\n",
      "3    0.063974\n",
      "4   -0.825922\n",
      "Name: chol, dtype: float64\n"
     ]
    }
   ],
   "source": [
    "print('Primeiros valores normalizados de chol:', X['chol'].head())\n"
   ]
  },
  {
   "cell_type": "code",
   "execution_count": 69,
   "metadata": {},
   "outputs": [
    {
     "name": "stdout",
     "output_type": "stream",
     "text": [
      "Primeiros valores normalizados de age: 0    0.948726\n",
      "1    1.392002\n",
      "2    1.392002\n",
      "3   -1.932564\n",
      "4   -1.489288\n",
      "Name: age, dtype: float64\n",
      "Primeiros valores normalizados de chol: 0   -0.264900\n",
      "1    0.760415\n",
      "2   -0.342283\n",
      "3    0.063974\n",
      "4   -0.825922\n",
      "Name: chol, dtype: float64\n"
     ]
    }
   ],
   "source": [
    "X[['age', 'chol']] = scaler.fit_transform(X[['age', 'chol']])\n",
    "print('Primeiros valores normalizados de age:', X['age'].head())\n",
    "print('Primeiros valores normalizados de chol:', X['chol'].head())\n"
   ]
  },
  {
   "cell_type": "markdown",
   "metadata": {},
   "source": [
    "Ao executá-la, obtemos a impressão dos cinco primeiros valores normalizados para cada uma das colunas.\n",
    "\n",
    "Primeiros valores normalizados de age: 0 0.948726\n",
    "\n",
    "1 1.392002\n",
    "\n",
    "2 1.392002\n",
    "\n",
    "3 -1.932564\n",
    "\n",
    "4 -1.489288\n",
    "\n",
    "Name: age, dtype: float64\n",
    "\n",
    "Primeiros valores normalizados de chol: 0 -0.264900\n",
    "\n",
    "1 0.760415\n",
    "\n",
    "2 -0.342283\n",
    "\n",
    "3 0.063974\n",
    "\n",
    "4 -0.825922\n",
    "\n",
    "Name: chol, dtype: float64\n",
    "\n",
    "Antes da normalização, tínhamos valores como 63, 67, 67, 37 e 41 para a idade, e agora temos valores entre 0.9 e 1.3, com alguns valores negativos. Quanto ao colesterol, que inicialmente possuía valores altos, agora temos valores em uma faixa mais estreita, como -0.26 e 0.76.\n",
    "Agora, estamos prontos para testar novamente nosso modelo com os dados normalizados"
   ]
  },
  {
   "cell_type": "markdown",
   "metadata": {},
   "source": [
    "Agora é hora de colocar nosso neurônio para funcionar utilizando os valores normalizados. Vamos avançar para a próxima linha de código e começar determinando o tamanho de nossa variável X. Quantas são as variáveis de entrada que temos? Podemos utilizar X.shape[1] para obter o número de colunas, que são 6.\n",
    "\n"
   ]
  },
  {
   "cell_type": "code",
   "execution_count": 70,
   "metadata": {},
   "outputs": [
    {
     "data": {
      "text/plain": [
       "6"
      ]
     },
     "execution_count": 70,
     "metadata": {},
     "output_type": "execute_result"
    }
   ],
   "source": [
    "# quantidade de colunas\n",
    "X.shape[1]\n"
   ]
  },
  {
   "cell_type": "markdown",
   "metadata": {},
   "source": [
    "Agora, vamos utilizar todas essas variáveis de entrada, o que significa que precisaremos de um peso para cada uma delas. Cada entrada terá um multiplicador associado. Vamos implementar isso.\n",
    "\n",
    "Primeiro, vamos definir um seed com tf.random.set_seed(31), que foi o valor que utilizamos na aula anterior. Em seguida, vamos definir uma variável chamada quantidade_features para representar o número de características que temos, que é igual a X.shape[1].\n",
    "\n"
   ]
  },
  {
   "cell_type": "code",
   "execution_count": 72,
   "metadata": {},
   "outputs": [],
   "source": [
    "tf.random.set_seed(31)\n",
    "\n",
    "quantidade_features = X.shape[1]\n",
    "\n"
   ]
  },
  {
   "cell_type": "markdown",
   "metadata": {},
   "source": [
    "Agora, precisamos definir tanto o pesos= quanto o viés. O peso será uma variável TensorFlow do tipo tf.Variable(). Para criar essa variável, usaremos tf.Variable(tf.random.normal([quantidade_features, 1]), name='peso'). Aqui, estamos gerando uma matriz de pesos com a dimensão [quantidade_features, 1], ou seja, 6 pesos no total. O parâmetro name é definido como 'peso'."
   ]
  },
  {
   "cell_type": "code",
   "execution_count": null,
   "metadata": {},
   "outputs": [],
   "source": [
    "# peso para cada coluna, um multiplicado para cada entrada \n",
    "peso = tf.Variable(tf.random.normal([quantidade_features, 1]), name='peso')\n"
   ]
  },
  {
   "cell_type": "markdown",
   "metadata": {},
   "source": [
    "Agora, vamos fazer o mesmo para o viés. Definiremos o viés como uma variável TensorFlow usando tf.Variable(tf.random.normal([1]), name='vies'). Lembre-se que sempre temos apenas um viés para o funcionamento do neurônio, ou seja, um único valor."
   ]
  },
  {
   "cell_type": "code",
   "execution_count": 79,
   "metadata": {},
   "outputs": [],
   "source": [
    "dimensao_vies = 1\n",
    "vies = tf.Variable(tf.random.normal([dimensao_vies]), name='vies')"
   ]
  },
  {
   "cell_type": "code",
   "execution_count": 74,
   "metadata": {},
   "outputs": [
    {
     "data": {
      "text/plain": [
       "array([0.15100643], dtype=float32)"
      ]
     },
     "execution_count": 74,
     "metadata": {},
     "output_type": "execute_result"
    }
   ],
   "source": [
    "vies.numpy()"
   ]
  },
  {
   "cell_type": "markdown",
   "metadata": {},
   "source": [
    "Vamos executar esta célula.\n",
    "\n",
    "Agora, exibiremos os valores do viés e dos pesos calculados. Para isso, utilizaremos vies.numpy() e peso.numpy()."
   ]
  },
  {
   "cell_type": "code",
   "execution_count": 75,
   "metadata": {},
   "outputs": [
    {
     "data": {
      "text/plain": [
       "array([[-0.3594139 ],\n",
       "       [ 0.18532915],\n",
       "       [ 2.3871737 ],\n",
       "       [ 0.9996345 ],\n",
       "       [ 0.09981808],\n",
       "       [-0.06186233]], dtype=float32)"
      ]
     },
     "execution_count": 75,
     "metadata": {},
     "output_type": "execute_result"
    }
   ],
   "source": [
    "# array de pesos, pesos criados de forma aleatória\n",
    "peso.numpy()"
   ]
  },
  {
   "cell_type": "markdown",
   "metadata": {},
   "source": [
    "Note que o viés tem o valor de 0.15 e os pesos são distribuídos aleatoriamente em um array, onde cada peso corresponde a uma das entradas. Com isso, estamos prontos para prosseguir e testar o funcionamento do neurônio.\n",
    "\n"
   ]
  },
  {
   "cell_type": "markdown",
   "metadata": {},
   "source": [
    "Vamos começar selecionando os valores do primeiro paciente em nosso conjunto de dados, da matriz de entrada. Podemos fazer isso usando x.iloc[0].values."
   ]
  },
  {
   "cell_type": "code",
   "execution_count": 76,
   "metadata": {},
   "outputs": [
    {
     "data": {
      "text/plain": [
       "array([0.9487264714397228, -0.2649003043508984, True, False, False, False],\n",
       "      dtype=object)"
      ]
     },
     "execution_count": 76,
     "metadata": {},
     "output_type": "execute_result"
    }
   ],
   "source": [
    "X.iloc[0].values"
   ]
  },
  {
   "cell_type": "markdown",
   "metadata": {},
   "source": [
    "0.94 para idade; -0.26 para colesterol; 1 para cp1, indicando a presença de dor do tipo 1; 0 para as outras características."
   ]
  },
  {
   "cell_type": "markdown",
   "metadata": {},
   "source": [
    "Em seguida, vamos construir uma nova função chamada neuronio(), com uma pequena modificação. Esta função receberá x.\n",
    "\n",
    "Lembre-se de que, anteriormente, estávamos lidando com uma multiplicação simples entre a entrada x e o peso usando a função multiply. No entanto, agora estamos lidando com uma matriz, não mais com uma dimensão igual a 1. Com 6 features, teremos 6 pesos diferentes.\n",
    "\n",
    "Ou seja, em vez de multiplicar simplesmente a entrada x pelo peso usando tf.multiply, usaremos a função tf.matmul, que realiza a multiplicação entre matrizes. O resultado dessa multiplicação será somado ao viés usando tf.add. O retorno da função será o valor z. Portanto, a estrutura da função será z = tf.add(tf.matmul(x, peso), vies). Isso significa que cada entrada será multiplicada pelo seu peso, e o resultado será somado ao viés. Por fim, pedimos para retornar z."
   ]
  },
  {
   "cell_type": "code",
   "execution_count": 73,
   "metadata": {},
   "outputs": [],
   "source": [
    "def neuronio(x):\n",
    "    # matmul faz multiplicacao entra matrizes\n",
    "    valor = tf.matmul(x, peso)\n",
    "    # soma este valor ao vies\n",
    "    z = tf.add(valor, vies)\n",
    "    return z"
   ]
  },
  {
   "cell_type": "code",
   "execution_count": 78,
   "metadata": {},
   "outputs": [
    {
     "data": {
      "text/plain": [
       "<tf.Tensor: shape=(1, 1), dtype=float32, numpy=array([[2.1481009]], dtype=float32)>"
      ]
     },
     "execution_count": 78,
     "metadata": {},
     "output_type": "execute_result"
    }
   ],
   "source": [
    "neuronio(tf.constant([[0.9487264714397228, -0.2649003043508984, 1.0, 0.0, 0.0, 0.0 ]]))"
   ]
  },
  {
   "cell_type": "markdown",
   "metadata": {},
   "source": [
    "Mas como isso é calculado? Recapitulando, cada valor de entrada é multiplicado pelo peso correspondente e, em seguida, são somados juntamente com o viés. Para os valores fornecidos, a saída é 2.14.\n",
    "\n",
    "Mas o que esse valor significa? Podemos calcular a probabilidade e interpretar o resultado para entender qual classe o neurônio está prevendo (0 ou 1). Vamos fazer isso agora.\n",
    "\n",
    "Podemos calcular a probabilidade usando a função tf.sigmoid e aplicando-a ao resultado do neurônio:\n",
    "\n"
   ]
  },
  {
   "cell_type": "code",
   "execution_count": 80,
   "metadata": {},
   "outputs": [
    {
     "data": {
      "text/plain": [
       "<tf.Tensor: shape=(1, 1), dtype=float32, numpy=array([[0.9074787]], dtype=float32)>"
      ]
     },
     "execution_count": 80,
     "metadata": {},
     "output_type": "execute_result"
    }
   ],
   "source": [
    "probabilidade = tf.sigmoid(neuronio(tf.constant([[0.94872647, -0.2649003, 1.0, 0.0, 0.0, 0.0]])))\n",
    "probabilidade"
   ]
  },
  {
   "cell_type": "markdown",
   "metadata": {},
   "source": [
    "O que isso significa? Se a probabilidade for maior que 0.5, significa que a classe prevista é 1.\n",
    "\n",
    "Agora que realizamos esses cálculos para um único paciente, vamos aplicá-los a todos os pacientes, observando os resultados para os 10 primeiros pacientes.\n",
    "\n",
    "Para fazer isso, vamos criar uma variável chamada entrada, que será igual a tf.constant(X, dtype=tf.float32). Em seguida, calcularemos a probabilidade utilizando tf.sigmoid(neuronio(entrada)). Por fim, podemos visualizar as 10 primeiras probabilidades usando probabilidade[:10].numpy()."
   ]
  },
  {
   "cell_type": "code",
   "execution_count": 81,
   "metadata": {},
   "outputs": [
    {
     "data": {
      "text/plain": [
       "array([[0.9074787 ],\n",
       "       [0.4662755 ],\n",
       "       [0.4159394 ],\n",
       "       [0.7488337 ],\n",
       "       [0.8413056 ],\n",
       "       [0.7658917 ],\n",
       "       [0.49987766],\n",
       "       [0.62410194],\n",
       "       [0.4773871 ],\n",
       "       [0.53119314]], dtype=float32)"
      ]
     },
     "execution_count": 81,
     "metadata": {},
     "output_type": "execute_result"
    }
   ],
   "source": [
    "entrada = tf.constant(X, dtype=tf.float32)\n",
    "probabilidade = tf.sigmoid(neuronio(entrada))\n",
    "probabilidade[:10].numpy()"
   ]
  },
  {
   "cell_type": "markdown",
   "metadata": {},
   "source": [
    "Ao executar, obtemos as probabilidades para os 10 primeiros pacientes.\n",
    "\n"
   ]
  },
  {
   "cell_type": "markdown",
   "metadata": {},
   "source": [
    "Porém, para avaliar a qualidade do modelo, precisamos comparar essas probabilidades com os dados reais. Vamos fazer isso calculando a perda, usando a função BinaryCrossentropy do TensorFlow.\n",
    "\n",
    "Primeiro, criamos uma variável calculadora_perda que receberá tf.keras.losses.BinaryCrossentropy(). Em seguida, calculamos a perda usando calculadora_perda(y_true=y, y_pred=probabilidade). Aqui, y refere-se aos rótulos reais e probabilidade refere-se às probabilidades previstas. Por fim, podemos exibir a perda utilizando perda.numpy()."
   ]
  },
  {
   "cell_type": "code",
   "execution_count": 82,
   "metadata": {},
   "outputs": [
    {
     "data": {
      "text/plain": [
       "0.95078886"
      ]
     },
     "execution_count": 82,
     "metadata": {},
     "output_type": "execute_result"
    }
   ],
   "source": [
    "calculadora_perda = tf.keras.losses.BinaryCrossentropy()\n",
    "perda = calculadora_perda(y_true=y, y_pred=probabilidade)\n",
    "perda.numpy()\n"
   ]
  },
  {
   "cell_type": "markdown",
   "metadata": {},
   "source": [
    "Note que obtivemos um resultado bem menor que o anterior, que era em torno de 7.\n",
    "\n",
    "Após calcular a perda, podemos avaliar a acurácia do modelo. Antes, porém, precisamos voltar à célula de importação e adicionar a importação do Numpy:\n",
    "\n"
   ]
  },
  {
   "cell_type": "code",
   "execution_count": 83,
   "metadata": {},
   "outputs": [],
   "source": [
    "import pandas as pd\n",
    "import numpy as np\n",
    "import tensorflow as tf\n"
   ]
  },
  {
   "cell_type": "markdown",
   "metadata": {},
   "source": [
    "Agora, calculamos a acurácia usando o seguinte comando:\n",
    "\n"
   ]
  },
  {
   "cell_type": "code",
   "execution_count": 84,
   "metadata": {},
   "outputs": [
    {
     "data": {
      "text/plain": [
       "0.38943894389438943"
      ]
     },
     "execution_count": 84,
     "metadata": {},
     "output_type": "execute_result"
    }
   ],
   "source": [
    "np.mean(y.numpy() == ((probabilidade.numpy() > 0.5) * 1))\n"
   ]
  },
  {
   "cell_type": "markdown",
   "metadata": {},
   "source": [
    "Obtemos uma acurácia de 0.36. Note que diminuiu consideravelmente, embora a calculadora tenha trazido um valor de perda menor. Precisamos melhorar isso e uma das formas é usando o gradiente descendente, que abordaremos no próximo vídeo."
   ]
  },
  {
   "cell_type": "markdown",
   "metadata": {},
   "source": [
    "# Entendendo o gradiente descendente\n"
   ]
  },
  {
   "cell_type": "markdown",
   "metadata": {},
   "source": [
    "anterior, conseguimos reduzir significativamente nossa perda ao utilizar a calculadora de perda. Lembre-se de que anteriormente tínhamos uma perda de cerca de 7 e agora ela caiu para 0.92.\n",
    "\n",
    "Isso ocorreu após normalizarmos nossos dados e utilizarmos o conjunto completo de variáveis. Agora, nosso objetivo é reduzir ainda mais essa perda. Para isso, precisamos encontrar o custo mínimo por meio de uma função de custo.\n",
    "\n",
    "Vamos fazer uma analogia visual para entender melhor. Imagine que estamos em um deserto, com várias dunas de areia. Algumas dunas têm picos mais altos que vão descendo até um ponto mais baixo, podendo subir novamente. A ideia é visualizar essas dunas como nossa função de custo, e nosso objetivo é encontrar o ponto mais baixo, representando o menor custo possível.\n",
    "\n",
    "Agora, imaginemos que começamos de um ponto aleatório nessa função de custo, como o topo de uma montanha. A ideia é chegar no ponto mais baixo, mas o nosso ponto inicial foi o topo da montanha, então representa uma questão de azar.\n",
    "\n",
    "Da mesma forma, começar de um ponto ainda mais alto também seria azar. No entanto, se começarmos de um ponto intermediário, nem tão alto e nem tão alto, seria sorte. Já em um cenário de sorte extrema, começaríamos de um ponto mínimo, embora isso seja improvável.\n",
    "\n",
    "Agora, vamos pensar em como avançar nessa função de custo. Vamos supor que estamos em um ponto aleatório, no meio da subida da montanha. Neste caso, podemos optar por subir, mas nosso objetivo é descer em direção ao mínimo. Portanto, queremos seguir a inclinação negativa. Aqui entra o conceito de gradiente descendente, onde atualizamos os pesos e viés iterativamente para encontrar o ponto mínimo.\n",
    "\n",
    "No entanto, o tamanho dos passos que damos ao descer pode influenciar o resultado. Passos muito grandes podem nos levar a oscilações e até mesmo a pontos mais altos, enquanto passos muito pequenos podem nos manter estagnados sem atingir o mínimo desejado. Isso é controlado pela taxa de aprendizado, que determina o tamanho dos passos que damos durante o processo.\n",
    "\n",
    "No próximo, aplicaremos o gradiente descendente, definiremos uma taxa de aprendizado adequada e exploraremos como aumentar ou diminuir essa taxa pode afetar nosso processo. Até lá!\n",
    "\n"
   ]
  },
  {
   "cell_type": "code",
   "execution_count": null,
   "metadata": {},
   "outputs": [],
   "source": []
  }
 ],
 "metadata": {
  "kernelspec": {
   "display_name": "Python 3 (ipykernel)",
   "language": "python",
   "name": "python3"
  }
 },
 "nbformat": 4,
 "nbformat_minor": 2
}
