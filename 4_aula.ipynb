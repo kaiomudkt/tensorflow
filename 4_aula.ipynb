{
 "cells": [
  {
   "cell_type": "markdown",
   "metadata": {},
   "source": [
    "\n",
    "# Separando e normalizando os dados"
   ]
  },
  {
   "cell_type": "code",
   "execution_count": 61,
   "metadata": {},
   "outputs": [
    {
     "name": "stdout",
     "output_type": "stream",
     "text": [
      "Requirement already satisfied: tensorflow in /opt/conda/lib/python3.11/site-packages (2.16.1)\n",
      "Requirement already satisfied: absl-py>=1.0.0 in /opt/conda/lib/python3.11/site-packages (from tensorflow) (2.1.0)\n",
      "Requirement already satisfied: astunparse>=1.6.0 in /opt/conda/lib/python3.11/site-packages (from tensorflow) (1.6.3)\n",
      "Requirement already satisfied: flatbuffers>=23.5.26 in /opt/conda/lib/python3.11/site-packages (from tensorflow) (24.3.25)\n",
      "Requirement already satisfied: gast!=0.5.0,!=0.5.1,!=0.5.2,>=0.2.1 in /opt/conda/lib/python3.11/site-packages (from tensorflow) (0.5.4)\n",
      "Requirement already satisfied: google-pasta>=0.1.1 in /opt/conda/lib/python3.11/site-packages (from tensorflow) (0.2.0)\n",
      "Requirement already satisfied: h5py>=3.10.0 in /opt/conda/lib/python3.11/site-packages (from tensorflow) (3.10.0)\n",
      "Requirement already satisfied: libclang>=13.0.0 in /opt/conda/lib/python3.11/site-packages (from tensorflow) (18.1.1)\n",
      "Requirement already satisfied: ml-dtypes~=0.3.1 in /opt/conda/lib/python3.11/site-packages (from tensorflow) (0.3.2)\n",
      "Requirement already satisfied: opt-einsum>=2.3.2 in /opt/conda/lib/python3.11/site-packages (from tensorflow) (3.3.0)\n",
      "Requirement already satisfied: packaging in /opt/conda/lib/python3.11/site-packages (from tensorflow) (24.0)\n",
      "Requirement already satisfied: protobuf!=4.21.0,!=4.21.1,!=4.21.2,!=4.21.3,!=4.21.4,!=4.21.5,<5.0.0dev,>=3.20.3 in /opt/conda/lib/python3.11/site-packages (from tensorflow) (4.25.3)\n",
      "Requirement already satisfied: requests<3,>=2.21.0 in /opt/conda/lib/python3.11/site-packages (from tensorflow) (2.31.0)\n",
      "Requirement already satisfied: setuptools in /opt/conda/lib/python3.11/site-packages (from tensorflow) (69.2.0)\n",
      "Requirement already satisfied: six>=1.12.0 in /opt/conda/lib/python3.11/site-packages (from tensorflow) (1.16.0)\n",
      "Requirement already satisfied: termcolor>=1.1.0 in /opt/conda/lib/python3.11/site-packages (from tensorflow) (2.4.0)\n",
      "Requirement already satisfied: typing-extensions>=3.6.6 in /opt/conda/lib/python3.11/site-packages (from tensorflow) (4.10.0)\n",
      "Requirement already satisfied: wrapt>=1.11.0 in /opt/conda/lib/python3.11/site-packages (from tensorflow) (1.16.0)\n",
      "Requirement already satisfied: grpcio<2.0,>=1.24.3 in /opt/conda/lib/python3.11/site-packages (from tensorflow) (1.64.0)\n",
      "Requirement already satisfied: tensorboard<2.17,>=2.16 in /opt/conda/lib/python3.11/site-packages (from tensorflow) (2.16.2)\n",
      "Requirement already satisfied: keras>=3.0.0 in /opt/conda/lib/python3.11/site-packages (from tensorflow) (3.3.3)\n",
      "Requirement already satisfied: tensorflow-io-gcs-filesystem>=0.23.1 in /opt/conda/lib/python3.11/site-packages (from tensorflow) (0.37.0)\n",
      "Requirement already satisfied: numpy<2.0.0,>=1.23.5 in /opt/conda/lib/python3.11/site-packages (from tensorflow) (1.26.4)\n",
      "Requirement already satisfied: wheel<1.0,>=0.23.0 in /opt/conda/lib/python3.11/site-packages (from astunparse>=1.6.0->tensorflow) (0.42.0)\n",
      "Requirement already satisfied: rich in /opt/conda/lib/python3.11/site-packages (from keras>=3.0.0->tensorflow) (13.7.1)\n",
      "Requirement already satisfied: namex in /opt/conda/lib/python3.11/site-packages (from keras>=3.0.0->tensorflow) (0.0.8)\n",
      "Requirement already satisfied: optree in /opt/conda/lib/python3.11/site-packages (from keras>=3.0.0->tensorflow) (0.11.0)\n",
      "Requirement already satisfied: charset-normalizer<4,>=2 in /opt/conda/lib/python3.11/site-packages (from requests<3,>=2.21.0->tensorflow) (3.3.2)\n",
      "Requirement already satisfied: idna<4,>=2.5 in /opt/conda/lib/python3.11/site-packages (from requests<3,>=2.21.0->tensorflow) (3.6)\n",
      "Requirement already satisfied: urllib3<3,>=1.21.1 in /opt/conda/lib/python3.11/site-packages (from requests<3,>=2.21.0->tensorflow) (2.2.1)\n",
      "Requirement already satisfied: certifi>=2017.4.17 in /opt/conda/lib/python3.11/site-packages (from requests<3,>=2.21.0->tensorflow) (2024.2.2)\n",
      "Requirement already satisfied: markdown>=2.6.8 in /opt/conda/lib/python3.11/site-packages (from tensorboard<2.17,>=2.16->tensorflow) (3.6)\n",
      "Requirement already satisfied: tensorboard-data-server<0.8.0,>=0.7.0 in /opt/conda/lib/python3.11/site-packages (from tensorboard<2.17,>=2.16->tensorflow) (0.7.2)\n",
      "Requirement already satisfied: werkzeug>=1.0.1 in /opt/conda/lib/python3.11/site-packages (from tensorboard<2.17,>=2.16->tensorflow) (3.0.3)\n",
      "Requirement already satisfied: MarkupSafe>=2.1.1 in /opt/conda/lib/python3.11/site-packages (from werkzeug>=1.0.1->tensorboard<2.17,>=2.16->tensorflow) (2.1.5)\n",
      "Requirement already satisfied: markdown-it-py>=2.2.0 in /opt/conda/lib/python3.11/site-packages (from rich->keras>=3.0.0->tensorflow) (3.0.0)\n",
      "Requirement already satisfied: pygments<3.0.0,>=2.13.0 in /opt/conda/lib/python3.11/site-packages (from rich->keras>=3.0.0->tensorflow) (2.17.2)\n",
      "Requirement already satisfied: mdurl~=0.1 in /opt/conda/lib/python3.11/site-packages (from markdown-it-py>=2.2.0->rich->keras>=3.0.0->tensorflow) (0.1.2)\n",
      "Note: you may need to restart the kernel to use updated packages.\n"
     ]
    }
   ],
   "source": [
    "%pip install tensorflow"
   ]
  },
  {
   "cell_type": "code",
   "execution_count": 62,
   "metadata": {},
   "outputs": [
    {
     "name": "stdout",
     "output_type": "stream",
     "text": [
      "Tensorflow instalado na versão: 2.16.1\n"
     ]
    }
   ],
   "source": [
    "import tensorflow as tf\n",
    "import pandas as pd\n",
    "import numpy as np\n",
    "from sklearn.preprocessing import StandardScaler\n",
    "\n",
    "tf.random.set_seed(31)\n",
    "versao_tensorflow = tf.__version__\n",
    "print(f'Tensorflow instalado na versão: {versao_tensorflow}')"
   ]
  },
  {
   "cell_type": "markdown",
   "metadata": {},
   "source": [
    "dados de doença cardiaca"
   ]
  },
  {
   "cell_type": "code",
   "execution_count": 63,
   "metadata": {},
   "outputs": [
    {
     "name": "stdout",
     "output_type": "stream",
     "text": [
      "Requirement already satisfied: ucimlrepo in /opt/conda/lib/python3.11/site-packages (0.0.7)\n",
      "Requirement already satisfied: pandas>=1.0.0 in /opt/conda/lib/python3.11/site-packages (from ucimlrepo) (2.2.1)\n",
      "Requirement already satisfied: certifi>=2020.12.5 in /opt/conda/lib/python3.11/site-packages (from ucimlrepo) (2024.2.2)\n",
      "Requirement already satisfied: numpy<2,>=1.23.2 in /opt/conda/lib/python3.11/site-packages (from pandas>=1.0.0->ucimlrepo) (1.26.4)\n",
      "Requirement already satisfied: python-dateutil>=2.8.2 in /opt/conda/lib/python3.11/site-packages (from pandas>=1.0.0->ucimlrepo) (2.9.0)\n",
      "Requirement already satisfied: pytz>=2020.1 in /opt/conda/lib/python3.11/site-packages (from pandas>=1.0.0->ucimlrepo) (2024.1)\n",
      "Requirement already satisfied: tzdata>=2022.7 in /opt/conda/lib/python3.11/site-packages (from pandas>=1.0.0->ucimlrepo) (2024.1)\n",
      "Requirement already satisfied: six>=1.5 in /opt/conda/lib/python3.11/site-packages (from python-dateutil>=2.8.2->pandas>=1.0.0->ucimlrepo) (1.16.0)\n",
      "Note: you may need to restart the kernel to use updated packages.\n"
     ]
    }
   ],
   "source": [
    "%pip install ucimlrepo\n",
    "from ucimlrepo import fetch_ucirepo\n",
    "doenca_cardiaca = fetch_ucirepo(id=45)\n",
    "X = doenca_cardiaca.data.features\n",
    "X = X[['age', 'chol', 'cp']]\n",
    "target = doenca_cardiaca.targets\n",
    "target = (target > 0) * 1"
   ]
  },
  {
   "cell_type": "code",
   "execution_count": 64,
   "metadata": {},
   "outputs": [],
   "source": [
    "X = doenca_cardiaca.data.features\n",
    "X = X[['age', 'chol', 'cp']]"
   ]
  },
  {
   "cell_type": "code",
   "execution_count": 66,
   "metadata": {},
   "outputs": [],
   "source": [
    "df_cp = pd.get_dummies(X['cp'], prefix='cp')\n",
    "X = X.drop('cp', axis=1)\n",
    "X = X.join(df_cp)"
   ]
  },
  {
   "cell_type": "code",
   "execution_count": 68,
   "metadata": {},
   "outputs": [],
   "source": [
    "entrada = tf.constant(X, dtype=tf.float32)\n",
    "y = tf.constant(target, dtype=tf.float32)"
   ]
  },
  {
   "cell_type": "markdown",
   "metadata": {},
   "source": [
    "Chegou o momento de dividir os dados em treino e teste. Para fazer isso, vamos usar a biblioteca Sklearn. Dentro dela, temos uma função específica para fazer essa divisão. Vamos importar isso na célula seguinte, adicionando from sklearn.model_selection import train_test_split.\n",
    "\n",
    "Na próxima linha do código, na mesma célula, vamos separar os dados em treino e teste. Vamos criar nosso X de treino, nosso y de treino, nosso X de teste e o Y de teste. Vamos precisar de variáveis para criar isso. Então, vamos colocar X_treino, X_teste, y_treino, y_teste.\n",
    "\n",
    "Vamos adicionar um sinal de igual e chamar essa função que foi importada acima com um train_test_split(). Entre os parênteses, vamos informar nossa entrada, mas precisamos deixá-la como um .numpy() para que seja entendida corretamente e não fique no formato de tensor.\n",
    "\n",
    "À sua direita, também vamos passar nosso y, escrevendo y.numpy(). à direita deste, podemos definir alguns parâmetros. Um deles é qual vai ser o tamanho do nosso conjunto de teste. Podemos definir, por exemplo, 20% dos dados separados para teste. Para definir isso, podemos colocar test_size = 0.2.\n",
    "\n",
    "Adicionaremos uma vírgula e pressionaremos \"Enter\" para descer uma linha e evitar que a linha de código fique muito longa. Na nova linha, podemos usar uma estratégia que é muito útil, o stratify. Se trata de um parâmetro para o qual vamos passar o y, permitindo que ele mantenha a quantidade de exemplos de 0s e 1s no nosso y, tanto no treino quanto no teste.\n",
    "\n",
    "Isso impede que haja problemas como ter mais exemplos de pessoas com doença cardíaca em uma coisa, e menos na outra. Isso facilita no processo de classificação. Para adicionar essa estratégia, vamos inserir stratify=y.numpy().\n",
    "\n",
    "A última coisa que vamos colocar entre os parênteses do train_test_split() é um random state, porque isso é feito de forma aleatória. Para garantir a reprodutibilidade nesse caso, vamos colocar um valor para que você execute em sua máquina e isso aconteça da mesma forma. Então, vamos colocar random_state = e um número aleatório: 4321."
   ]
  },
  {
   "cell_type": "code",
   "execution_count": 69,
   "metadata": {},
   "outputs": [],
   "source": [
    "from sklearn.model_selection import train_test_split\n",
    "X_treino, X_teste, y_treino, y_teste = train_test_split(entrada.numpy(), y.numpy(), test_size=0.2,\n",
    "stratify=y.numpy(), random_state=4321)\n"
   ]
  },
  {
   "cell_type": "markdown",
   "metadata": {},
   "source": [
    "Vamos executar esse código, e estará feito. Agora, a ideia é normalizar esses dados, ao invés de normalizar antes de separar em treino e teste, como tínhamos feito antes. Dessa vez, vamos fazer da forma mais adequada.\n",
    "\n",
    "Já temos o StandardScaler importado na primeira célula. A ideia é começar criando um objeto que vai receber a classe que vai fazer isso. Para isso, na próxima célula, vamos criar um scaler = StandardScaler().\n",
    "\n",
    "Para evitar o vazamento de dados ao fazer esse processo de normalização, vamos usar somente os dados de treino para fazer o fit e normalizar. Vamos descer uma linha na mesma célula e colocar X_treino = scaler.fit_transform(X_treino). Feito isso, podemos transformar os dados de teste. Desceremos uma linha em relação à anterior e vamos inserir X_teste = scaler.transform(X_teste).\n",
    "\n",
    "Em seguida, precisamos converter X_treino, X_teste e Y no tipo tensor, como temos o costume de fazer desde o começo. Na próxima linha, vamos fazer converter adicionando X_treino = tf.constant(X_treino, dtype=tf.float32).\n",
    "\n",
    "Vamos fazer isso para todos. Para o X_teste, vamos descer para a próxima linha e inserir X_teste = tf.constant(X_teste, dtype=tf.float32). Para o y_treino, vamos descer outra linha e inserir y_treino = tf.constant(y_treino, dtype=tf.float32). Por fim, desceremos mais um alinha e adicionaremos o último, y_teste = tf.constant(y_teste, dtype=tf.float32)."
   ]
  },
  {
   "cell_type": "code",
   "execution_count": 71,
   "metadata": {},
   "outputs": [],
   "source": [
    "scaler = StandardScaler()\n",
    "X_treino = scaler.fit_transform(X_treino)\n",
    "X_teste = scaler.transform(X_teste)\n",
    "\n",
    "X_treino = tf.constant(X_treino, dtype=tf.float32)\n",
    "X_teste = tf.constant(X_teste, dtype=tf.float32)\n",
    "y_treino = tf.constant(y_treino, dtype=tf.float32)\n",
    "y_teste = tf.constant(y_teste, dtype=tf.float32)\n"
   ]
  },
  {
   "cell_type": "markdown",
   "metadata": {},
   "source": [
    "Temos tudo preparado e vamos fazer o gradiente funcionar para ver o que acontece.\n",
    "\n",
    "Adicionando o gradiente\n",
    "Antes de tudo, precisamos sempre refazer os pesos. Na célula vazia seguinte, vamos fazer o tf.random.set_seed(). Entre os parênteses, vamos dar um valor igual a 31, para manter como fizemos antes."
   ]
  },
  {
   "cell_type": "code",
   "execution_count": null,
   "metadata": {},
   "outputs": [],
   "source": [
    "tf.random.set_seed(31)\n"
   ]
  },
  {
   "cell_type": "markdown",
   "metadata": {},
   "source": [
    "Pularemos uma linha e criaremos os pesos e o vies (viés), um em cada linha. O pesos será criado com tf.Variable(), e entre seus parênteses vamos colocar o tf.random.normal(). Entre os parênteses deste, por sua vez, vamos abrir colchetes, entre os quais colocaremos a quantidade_features criada anteriormente.\n",
    "\n",
    "Vamos adicionar uma vírgula e adicionar o 1 também. À direita dos parênteses de tf.random.normal(), vamos colocar o name que será igual a pesos.\n",
    "\n",
    "Na linha do vies, ele será igual a tf.Variable(). Entre os parênteses, vamos colocar o mesmo que antes: tf.random.normal(). Entre os parênteses deste, vamos abrir colchetes e colocar o número 1 dentro. à direita de tf.random.normal(), vamos dar o nome inserindo um name = vies.\n",
    "\n",
    "Na verdade, não temos a quantidade_features ainda. Vamos criar essa variável acima das linhas de pesos e vies, para dar tudo certo. Vamos colocar a quantidade_features, que será igual ao x_treino.shape[] e passar dentro dos colchetes o número 1, para pegar a quantidade de colunas.\n",
    "\n"
   ]
  },
  {
   "cell_type": "code",
   "execution_count": 72,
   "metadata": {},
   "outputs": [],
   "source": [
    "quantidade_features = X_treino.shape[1]\n",
    "pesos = tf.Variable(tf.random.normal([quantidade_features, 1]), name='pesos')\n",
    "vies = tf.Variable(tf.random.normal([1]), name='vies')\n"
   ]
  },
  {
   "cell_type": "markdown",
   "metadata": {},
   "source": [
    "Também precisamos da nossa calculadora de perda. Para adicioná-la, vamos descer mais uma linha e inserir calculadora_perda que será igual ao tf.keras.losses.BinaryCrossentropy().\n",
    "\n",
    "Além disso, também precisamos do otimizador. Desceremos mais uma linha e adicionaremos um otimizador_treino que será igual ao tf.optimizers.SGD(). Entre seus parênteses, vamos colocar um learning_rate por meio de um learning_rate=0,01.\n",
    "\n",
    "Na próxima linha, vamos definir a quantidade de épocas, adicionando um QUANTIDADE_EPOCAS será igual a 1.000."
   ]
  },
  {
   "cell_type": "code",
   "execution_count": 73,
   "metadata": {},
   "outputs": [],
   "source": [
    "calculadora_perda = tf.keras.losses. BinaryCrossentropy()\n",
    "otimizador_treino = tf.optimizers.SGD(learning_rate=0.01)\n",
    "QUANTIDADE_EPOCAS = 1000\n"
   ]
  },
  {
   "cell_type": "markdown",
   "metadata": {},
   "source": [
    "Descendo mais duas linhas, vamos armazenar as perdas em uma lista, para ficar mais organizado. Vamos criar uma lista perdas = [], que será vazia.\n",
    "\n",
    "Desceremos duas linhas e faremos aquele for epoca in range(). Entre parênteses, vamos informar QUANTIDADE_EPOCAS. Já à direita deles, vamos adicionar dois pontos e desceremos para a próxima linha.\n",
    "\n",
    "Dentro do for, vamos armazenar todas as informações no GradientTape, adicionando um with tf.GradientTape () as tape. No final, adicionaremos dois pontos e desceremos para a próxima linha.\n",
    "\n",
    "Dentro do with, calcularemos a probabilidade e o custo, adicionando probabilidade que será igual ao tf.sigmoid(). Entre seus parênteses, vamos informar neuronio(), e entre os parênteses deste, o X_treino.\n",
    "\n",
    "Por enquanto, faltará a função neuronio(), presente em outro notebook. Posteriormente, a copiaremos e adicionaremos neste.\n",
    "\n",
    "Na próxima linha, vamos colocar o custo também. Ele será igual à calculadora_perda(), e vamos colocar entre estes parênteses o y_treino e a probabilidade que está sendo calculada na linha acima e que serve para comparar as duas coisas e calcular perdas e custos."
   ]
  },
  {
   "cell_type": "markdown",
   "metadata": {},
   "source": [
    "Vamos pular uma linha para sair do with e, ainda dentro do for, vamos adicionar os gradientes, que serão iguais ao tape.gradient(). Entre seus parênteses, vamos passar o custo da linha de cima, vírgula, abrir colchetes e passar entre eles os pesos e o vies.\n",
    "\n",
    "Na linha de baixo, vamos aplicar os gradientes com apply.gradients(). Para isso, vamos chamar o otimizador_treino.apply_gradients(). Entre seus parênteses, vamos passar a função zip(), e entre os parênteses deste, vamos inserir os gradientes, vírgula, e passar entre colchetes os pesos, vírgula, vies.\n",
    "\n",
    "Após ter feito tudo isso, vamos armazenar as nossas perdas nessa lista. Para isso, pularemos uma linha e, ainda dentro do for, vamos colocar perdas.append() e vamos passar entre seus parênteses o custo.numpy()."
   ]
  },
  {
   "cell_type": "markdown",
   "metadata": {},
   "source": [
    "Por fim, podemos exibir os resultados a cada 100 épocas. Para isso, vamos pular outra linha e, ainda dentro do for, colocar o if, passando entre parênteses o epoca + 1. À direita, vamos colocar o símbolo de porcentagem, o número 100 == 0. Com isso, vamos imprimir essa época quando o resto da divisão por 100 for zero.\n",
    "\n",
    "Vamos adicionar dois pontos, acessar a próxima linha e colocar um print(). Entre seus parênteses, vamos colocar uma fstring com f'' e adicionar entre suas aspas Época:, um espaço, um par de chaves e entre elas, a nossa epoca+1. À direita do par de chaves, vamos adicionar uma vírgula e colocar o Custo:, um espaço, e adicionar, entre chaves, o custo.numpy()."
   ]
  },
  {
   "cell_type": "markdown",
   "metadata": {},
   "source": [
    "Agora, falta a função do neurônio, que pode ser consultada abaixo. Vamos copiá-la e colá-la embaixo da linha vies = tf.Variable(tf.random.normal([1]), name='vies'), na qual definimos os pesos e viés. Nessa função, temos o def_neuronio que recebe o x. Multiplicamos x pelos pesos e adicionamos o viés."
   ]
  },
  {
   "cell_type": "code",
   "execution_count": 82,
   "metadata": {},
   "outputs": [
    {
     "name": "stdout",
     "output_type": "stream",
     "text": [
      "Época: 100), Custo: (1.1161863803863525\n",
      "Época: 200), Custo: (0.9429414868354797\n",
      "Época: 300), Custo: (0.8417730927467346\n",
      "Época: 400), Custo: (0.7737217545509338\n",
      "Época: 500), Custo: (0.721126139163971\n",
      "Época: 600), Custo: (0.6769370436668396\n",
      "Época: 700), Custo: (0.638964831829071\n",
      "Época: 800), Custo: (0.6073909401893616\n",
      "Época: 900), Custo: (0.5830886960029602\n",
      "Época: 1000), Custo: (0.5660953521728516\n"
     ]
    }
   ],
   "source": [
    "tf.random.set_seed(31)\n",
    "\n",
    "quantidade_features = X_treino.shape[1]\n",
    "pesos = tf.Variable(tf.random.normal([quantidade_features, 1]), name='pesos')\n",
    "vies = tf.Variable(tf.random.normal([1]), name='vies')\n",
    "\n",
    "def neuronio(x):\n",
    "    z = tf.add(tf.matmul(x, pesos), vies)\n",
    "    return z\n",
    "\n",
    "calculadora_perda = tf.keras.losses. BinaryCrossentropy()\n",
    "otimizador_treino = tf.optimizers.SGD(learning_rate=0.01)\n",
    "QUANTIDADE_EPOCAS = 1000\n",
    "\n",
    "perdas = []\n",
    "\n",
    "for epoca in range(QUANTIDADE_EPOCAS):\n",
    "    with tf.GradientTape() as tape:\n",
    "        probabilidade = tf.sigmoid(neuronio(X_treino))\n",
    "        custo = calculadora_perda(y_treino, probabilidade)\n",
    "        \n",
    "    gradientes = tape.gradient(custo, [pesos, vies])\n",
    "    otimizador_treino.apply_gradients(zip(gradientes, [pesos, vies]))\n",
    "    \n",
    "    perdas.append(custo.numpy())\n",
    "    \n",
    "    if (epoca + 1) % 100 == 0:\n",
    "        print (f'Época: {epoca+1}), Custo: ({custo.numpy()}')\n"
   ]
  },
  {
   "cell_type": "markdown",
   "metadata": {},
   "source": [
    "Vamos rodar para ver se dá certo. Então, está rodando e já está imprimindo o custo a cada época. Começamos com o custo, na época 100, de 1.1 e indo para 0.94, 0.84, 0.77 e vai descendo até chegar a 0.56.\n",
    "\n",
    "Podemos até plotar um gráfico para ver como fica isso. Para plotar, vamos precisar importar a biblioteca matplotlib. Faremos isso na próxima célula vazia, com o comando abaixo.\n",
    "\n"
   ]
  },
  {
   "cell_type": "code",
   "execution_count": 84,
   "metadata": {},
   "outputs": [],
   "source": [
    "import matplotlib.pyplot as plt\n"
   ]
  },
  {
   "cell_type": "markdown",
   "metadata": {},
   "source": [
    "Pularemos uma linha e vamos dar um plt.plot() e vamos passar entre parênteses a lista perdas que foi criada mais acima.\n",
    "\n",
    "Podemos dar um título aos eixos para ficar mais organizado. Para isso, na próxima linha, vamos adicionar plt.title() que terá entre os parênteses o texto \"Perda por época\" entre aspas simples. Na próxima linha, intitularemos os eixos com plt.xlabel(). O eixo X será a época, portanto, vamos adicionar entre parênteses o texto \"Época\" entre aspas simples.\n",
    "\n",
    "Na próxima linha, teremos o eixo y como \"Perda\", ou seja, plt.ylabel('Perda'). Por fim, desceremos outra linha, na qual vamos adicionar um plt.show() para exibir o gráfico.\n",
    "\n",
    "É interessante deixar o eixo y começando em zero, para não distorcer o resultado. Entre o ylabel e o show, podemos colocar um plt.ylim() e definir entre parênteses o intervalo de zero até 2 (0,2) para ver como fica."
   ]
  },
  {
   "cell_type": "code",
   "execution_count": 85,
   "metadata": {},
   "outputs": [
    {
     "data": {
      "image/png": "[encoded data removed]",
      "text/plain": [
       "<Figure size 640x480 with 1 Axes>"
      ]
     },
     "metadata": {},
     "output_type": "display_data"
    }
   ],
   "source": [
    "import matplotlib.pyplot as plt\n",
    "plt.plot(perdas)\n",
    "plt.title('Perda por época')\n",
    "plt.xlabel('Época')\n",
    "plt.ylabel('Perda')\n",
    "plt.ylim(0,2)\n",
    "plt.show()\n"
   ]
  },
  {
   "cell_type": "markdown",
   "metadata": {},
   "source": [
    "Vamos pensar o seguinte: usamos um learning_rate igual a 0.01. O que aconteceria com o formato que estamos vendo nesse gráfico se testássemos diferentes taxas, tanto mais baixas quanto mais altas? No próximo vídeo vamos testar esses casos."
   ]
  },
  {
   "cell_type": "code",
   "execution_count": null,
   "metadata": {},
   "outputs": [],
   "source": []
  }
 ],
 "metadata": {
  "kernelspec": {
   "display_name": "Python 3 (ipykernel)",
   "language": "python",
   "name": "python3"
  },
  "language_info": {
   "codemirror_mode": {
    "name": "ipython",
    "version": 3
   },
   "file_extension": ".py",
   "mimetype": "text/x-python",
   "name": "python",
   "nbconvert_exporter": "python",
   "pygments_lexer": "ipython3",
   "version": "3.11.8"
  }
 },
 "nbformat": 4,
 "nbformat_minor": 2
}
